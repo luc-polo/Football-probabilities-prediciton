{
 "cells": [
  {
   "cell_type": "markdown",
   "metadata": {},
   "source": [
    ".ipynb settings"
   ]
  },
  {
   "cell_type": "code",
   "execution_count": 1,
   "metadata": {},
   "outputs": [],
   "source": [
    "#Settings relative to .ipynb file format that have to be executed here\n",
    "\n",
    "#Make reloading of modules automatic et évite d'avoir à redémarer le kernel et tout re executer pour appliquer la modification d'un module dans __main__.\n",
    "%load_ext autoreload  \n",
    "%autoreload 2"
   ]
  },
  {
   "cell_type": "code",
   "execution_count": 2,
   "metadata": {},
   "outputs": [],
   "source": [
    "#src.useful_functions\n",
    "import sys\n",
    "sys.path.append('../src')  # Adjust the path to import modules in src/\n",
    "\n",
    "import useful_functions\n",
    "\n"
   ]
  },
  {
   "cell_type": "markdown",
   "metadata": {},
   "source": [
    "# I) <u> Raw data importation, visualisation, preprocessing  </u>"
   ]
  },
  {
   "cell_type": "markdown",
   "metadata": {},
   "source": [
    "<span style=\"color:#FF1493;\"> <strong> <font size=\"4\">1) Import csv data</font>"
   ]
  },
  {
   "cell_type": "code",
   "execution_count": 3,
   "metadata": {},
   "outputs": [
    {
     "name": "stdout",
     "output_type": "stream",
     "text": [
      "The dataframes are the same for both old and new footy_ds_interim\n",
      "Successfully deleted the old file: footy_ds_interim\n",
      "Successfully saved the new dataframe: footy_ds_interim\n",
      "The dataframes are the same for both old and new football_data_ds_interim\n",
      "Successfully deleted the old file: football_data_ds_interim\n",
      "Successfully saved the new dataframe: football_data_ds_interim\n"
     ]
    }
   ],
   "source": [
    "#src.data.make_dataset\n",
    "\n",
    "from data import make_dataset\n",
    "\n",
    "Footy_stats_files = [make_dataset.footy_2015_adr, make_dataset.footy_2016_adr,\n",
    "                     make_dataset.footy_2017_adr, make_dataset.footy_2018_adr, \n",
    "                     make_dataset.footy_2019_adr, make_dataset.footy_2020_adr,\n",
    "                     make_dataset.footy_2021_adr, make_dataset.footy_2022_adr, \n",
    "                     make_dataset.footy_2023_adr, make_dataset.footy_2024_adr]\n",
    "\n",
    "Football_data_files = [make_dataset.football_data_2015_adr, make_dataset.football_data_2016_adr,\n",
    "                       make_dataset.football_data_2017_adr, make_dataset.football_data_2018_adr,\n",
    "                       make_dataset.football_data_2019_adr, make_dataset.football_data_2020_adr,\n",
    "                       make_dataset.football_data_2021_adr, make_dataset.football_data_2022_adr,\n",
    "                       make_dataset.football_data_2023_adr, make_dataset.football_data_2024_adr]\n",
    "\n",
    "# convert csv files into big dataframes\n",
    "# Footy dataset\n",
    "footy_dataset_to_save_01 = make_dataset.read_data(Footy_stats_files, 'footy')\n",
    "# Football-Data dataset\n",
    "football_data_dataset_to_save_01 = make_dataset.read_data(Football_data_files, 'football data')\n",
    "\n",
    "#We delete a line full of Nan values\n",
    "football_data_dataset_to_save_01.drop(760, inplace = True)\n",
    "football_data_dataset_to_save_02 = football_data_dataset_to_save_01.reset_index(drop=False)\n",
    "\n",
    "\n",
    "\n",
    "# We save the dataframes created into data/interim folder, after having deleted the old ones.\n",
    "#Footy Stats dataset\n",
    "make_dataset.save_dataframe_into_data_interim(footy_dataset_to_save_01, 'footy_ds_interim')\n",
    "#Football-Data dataset\n",
    "make_dataset.save_dataframe_into_data_interim(football_data_dataset_to_save_02, 'football_data_ds_interim')"
   ]
  },
  {
   "cell_type": "markdown",
   "metadata": {},
   "source": [
    "<span style=\"color:#FF1493;\"> <strong> <font size=\"4\">2) Combine data of 'Footy Stats' and 'Football Data' datasets</font>"
   ]
  },
  {
   "cell_type": "code",
   "execution_count": 4,
   "metadata": {},
   "outputs": [
    {
     "name": "stdout",
     "output_type": "stream",
     "text": [
      "The footy_ds_interim dataframe contains matchs of the seasons:  [2015 2016 2017 2018 2019 2020 2021 2022 2023 2024]\n",
      "The football_data_ds_interim dataframe contains matchs of the seasons:  [2015 2016 2017 2018 2019 2020 2021 2022 2023 2024]\n",
      "In the column home_team_shots of footy_dataset, 3507 values were modified, 1 were not because the corresponding value in football_data_dataset was Nan.\n",
      "In the column away_team_shots of footy_dataset, 3507 values were modified, 1 were not because the corresponding value in football_data_dataset was Nan.\n",
      "In the column home_team_shots_on_target of footy_dataset, 3507 values were modified, 1 were not because the corresponding value in football_data_dataset was Nan.\n",
      "In the column away_team_shots_on_target of footy_dataset, 3507 values were modified, 1 were not because the corresponding value in football_data_dataset was Nan.\n"
     ]
    }
   ],
   "source": [
    "#src.data.data_combination\n",
    "\n",
    "from data import data_combination\n",
    "\n",
    "# Open the dataframes saved\n",
    "# Footy dataset\n",
    "dataset_footy_01 = make_dataset.load_data(True, 'footy_ds_interim')\n",
    "# Footabll Data dataset\n",
    "dataset_football_data_01 = make_dataset.load_data(True, 'football_data_ds_interim')\n",
    "\n",
    "\n",
    "# Uniformise teams names\n",
    "dataset_football_data_02, dataset_footy_02 = data_combination.team_names_uniformisation(dataset_football_data_01.copy(), dataset_footy_01.copy())\n",
    "\n",
    "# Replace Footy Stats shots by the values of Football Data\n",
    "dataset_footy_03 = data_combination.replace_col_values('home_team_shots', 'HS', dataset_footy_02.copy(), dataset_football_data_02.copy())\n",
    "dataset_footy_04 = data_combination.replace_col_values('away_team_shots', 'AS', dataset_footy_03.copy(), dataset_football_data_02.copy())\n",
    "# Replace Footy Stats shots_on_target by the values of Football Data\n",
    "dataset_footy_05 = data_combination.replace_col_values('home_team_shots_on_target', 'HST', dataset_footy_04.copy(), dataset_football_data_02.copy())\n",
    "dataset_footy_06 = data_combination.replace_col_values('away_team_shots_on_target', 'AST', dataset_footy_05.copy(), dataset_football_data_02.copy())\n",
    "\n",
    "dataset_00 = dataset_footy_06"
   ]
  },
  {
   "cell_type": "markdown",
   "metadata": {},
   "source": [
    "<span style=\"color:#FF1493;\"> <strong> <font size=\"4\">3)Imputation</font>"
   ]
  },
  {
   "cell_type": "code",
   "execution_count": 5,
   "metadata": {},
   "outputs": [
    {
     "name": "stdout",
     "output_type": "stream",
     "text": [
      "The DataFrames dataset_00 and dataset_001 are equal except for columns ['team_a_xg']\n",
      "The DataFrames dataset_001 and dataset_01 are equal except for columns ['team_b_xg']\n"
     ]
    },
    {
     "data": {
      "text/plain": [
       "True"
      ]
     },
     "execution_count": 5,
     "metadata": {},
     "output_type": "execute_result"
    }
   ],
   "source": [
    "#src.data.preprocessing\n",
    "from data import preprocessing\n",
    "\n",
    "# We select the features we want to use to conduct imputation on xg\n",
    "features_fo_HT_xg_imputation = ['home_team_goal_count', 'home_team_corner_count', 'odds_ft_home_team_win', 'home_team_shots', 'home_team_shots_on_target', 'home_team_possession']\n",
    "features_fo_AT_xg_imputation = ['away_team_goal_count', 'away_team_corner_count', 'odds_ft_away_team_win', 'away_team_shots', 'away_team_shots_on_target', 'away_team_possession']\n",
    "\n",
    "#Data imputation for XG:\n",
    "dataset_001 = preprocessing.imputation('team_a_xg', features_fo_HT_xg_imputation, dataset_00.copy())\n",
    "dataset_01 = preprocessing.imputation('team_b_xg', features_fo_AT_xg_imputation, dataset_001.copy())\n",
    "\n",
    "\n",
    "# We test if the previous action has not modified other col than the ones we immputed\n",
    "useful_functions.compare_2_df_excepted_col(['team_a_xg'], dataset_00.copy(), dataset_001.copy(), 'dataset_00', 'dataset_001')\n",
    "useful_functions.compare_2_df_excepted_col(['team_b_xg'], dataset_001.copy(), dataset_01.copy(), 'dataset_001', 'dataset_01')\n",
    "\n"
   ]
  },
  {
   "cell_type": "markdown",
   "metadata": {},
   "source": [
    "<span style=\"color:#FF1493;\"> <strong> <font size=\"4\">4) Visualize raw data</font>"
   ]
  },
  {
   "cell_type": "code",
   "execution_count": 6,
   "metadata": {},
   "outputs": [
    {
     "data": {
      "text/plain": [
       "\"\\nif __name__ == '__main__':\\n    from visualization import visualize\\n\\n\\n#There are several functions to run in this module that are very specific. They are made to identify specific features outliers. We better have to go to the module to run it.\\n\\nvisualize.plot_all_num_features(dataset_01.copy(), save = False, density_estimate = False)\\n\""
      ]
     },
     "execution_count": 6,
     "metadata": {},
     "output_type": "execute_result"
    }
   ],
   "source": [
    "#src.visualization.visualize\n",
    "\"\"\"\n",
    "if __name__ == '__main__':\n",
    "    from visualization import visualize\n",
    "\n",
    "\n",
    "#There are several functions to run in this module that are very specific. They are made to identify specific features outliers. We better have to go to the module to run it.\n",
    "\n",
    "visualize.plot_all_num_features(dataset_01.copy(), save = False, density_estimate = False)\n",
    "\"\"\""
   ]
  },
  {
   "cell_type": "markdown",
   "metadata": {},
   "source": [
    "# II) <u> Features engineering  </u>"
   ]
  },
  {
   "cell_type": "markdown",
   "metadata": {},
   "source": [
    "<span style=\"color:#FF1493;\"> <strong> <font size=\"4\">1) Create columns for new features:</font>"
   ]
  },
  {
   "cell_type": "code",
   "execution_count": 7,
   "metadata": {},
   "outputs": [
    {
     "name": "stdout",
     "output_type": "stream",
     "text": [
      "the function add_columns_and_complete_col_ranks() was executed correctly\n"
     ]
    },
    {
     "data": {
      "text/plain": [
       "True"
      ]
     },
     "execution_count": 7,
     "metadata": {},
     "output_type": "execute_result"
    }
   ],
   "source": [
    "#features.initialize_new_features_columns\n",
    "\n",
    "if __name__ == '__main__':\n",
    "    from features import initialize_new_features_columns\n",
    "\n",
    "#We create the new columns in dataset and stock the columns ranks variables into dico_col_rk\n",
    "dataset_02, dico_col_rk = initialize_new_features_columns.add_columns_and_complete_col_ranks(dataset_01.copy())\n",
    "\n",
    "#We execute a test to verify the columns and columns ranks variables have been correcctly created\n",
    "initialize_new_features_columns.test_columns_ranks(dico_col_rk, theoritical_df_col_nb = 203, dataset_0 = dataset_02.copy())\n"
   ]
  },
  {
   "cell_type": "markdown",
   "metadata": {},
   "source": [
    "<span style=\"color:#FF1493;\"> <strong> <font size=\"4\"> 2) Create new features:</font>"
   ]
  },
  {
   "cell_type": "markdown",
   "metadata": {},
   "source": [
    "<span style=\"color:#FF1493;\">\n",
    "<font size=\"3\"> \n",
    "    Création/Manipulation des Statistiques de Resultat\n",
    "</span style=\"color:#FF1493;\"> </font size=\"4\">\n",
    "\n",
    "(pm = pre-match)\n",
    "(sbos = since the beginning of the season)"
   ]
  },
  {
   "cell_type": "code",
   "execution_count": 8,
   "metadata": {},
   "outputs": [
    {
     "name": "stdout",
     "output_type": "stream",
     "text": [
      "The DataFrames dataset_02 and dataset_03 are equal except for columns ['RH', 'RA']\n",
      "The DataFrames dataset_03 and dataset_04 are equal except for columns ['HT_H_A_status', 'AT_H_A_status']\n"
     ]
    },
    {
     "name": "stdout",
     "output_type": "stream",
     "text": [
      "The DataFrames dataset_04 and dataset_05 are equal except for columns ['HT_played_matchs_nb', 'AT_played_matchs_nb', 'HT_victories_nb', 'AT_victories_nb']\n",
      "The DataFrames dataset_05 and dataset_06 are equal except for columns ['HT_avg_victory_pm', 'AT_avg_victory_pm', 'Diff_HT_avg_victory_pm', 'Diff_AT_avg_victory_pm']\n",
      "The DataFrames dataset_06 and dataset_07 are equal except for columns ['HT_points_ponderated_by_adversary_perf', 'AT_points_ponderated_by_adversary_perf', 'HT_avg_pm_points_ponderated_by_adversary_perf', 'AT_avg_pm_points_ponderated_by_adversary_perf', 'HT_Diff_points_ponderated_by_adversary_perf', 'AT_Diff_points_ponderated_by_adversary_perf']\n",
      "The DataFrames dataset_07 and dataset_08 are equal except for columns ['scored_goals_HT_PM', 'conceded_goals_HT_PM', 'scored_goals_AT_PM', 'conceded_goals_AT_PM']\n",
      "The DataFrames dataset_08 and dataset_09 are equal except for columns ['goal_diff_HT_PM', 'goal_diff_AT_PM', 'HT_avg_goal_diff_pm', 'AT_avg_goal_diff_pm', 'Diff_HT_goal_diff_pm', 'Diff_AT_goal_diff_pm']\n",
      "The DataFrames dataset_09 and dataset_10 are equal except for columns ['HT_avg_scored_g_conceded_g_ratio', 'AT_avg_scored_g_conceded_g_ratio', 'Diff_HT_avg_scored_g_conceded_g_ratio', 'Diff_AT_avg_scored_g_conceded_g_ratio']\n",
      "The DataFrames dataset_10 and dataset_11 are equal except for columns ['Prematch_HT_PN', 'Prematch_AT_PN', 'HT_avg_collected_points_pm', 'AT_avg_collected_points_pm', 'Diff_pnt_HT_ratio', 'Diff_pnt_AT_ratio']\n",
      "The DataFrames dataset_11 and dataset_12 are equal except for columns ['HT_week_ranking', 'AT_week_ranking', 'Diff_HT_ranking', 'Diff_AT_ranking']\n",
      "The DataFrames dataset_12 and dataset_13 are equal except for columns ['annual budget of HT', 'annual budget of AT', 'Diff_HT_annual_budget', 'Diff_AT_annual_budget']\n",
      "OK, there is no 0 in any of the columns in ['annual budget of HT', 'annual budget of AT']\n",
      "The DataFrames dataset_13 and dataset_14 are equal except for columns ['Points_HT_5lm_PM', 'Points_AT_5lm_PM', 'Points_HT_3lm_PM', 'Points_AT_3lm_PM', 'Points_HT_1lm_PM', 'Points_AT_1lm_PM', 'HT_Diff_Points_5lm', 'AT_Diff_Points_5lm', 'HT_Diff_Points_3lm', 'AT_Diff_Points_3lm', 'HT_Diff_Points_1lm', 'AT_Diff_Points_1lm']\n",
      "The DataFrames dataset_14 and dataset_15 are equal except for columns ['GoalDiff_HT_5lm_PM', 'GoalDiff_AT_5lm_PM', 'GoalDiff_HT_3lm_PM', 'GoalDiff_AT_3lm_PM', 'GoalDiff_HT_1lm_PM', 'GoalDiff_AT_1lm_PM', 'HT_Diff_Goal_Diff_5lm', 'AT_Diff_Goal_Diff_5lm', 'HT_Diff_Goal_Diff_3lm', 'AT_Diff_Goal_Diff_3lm', 'HT_Diff_Goal_Diff_1lm', 'AT_Diff_Goal_Diff_1lm']\n",
      "The DataFrames dataset_15 and dataset_16 are equal except for columns ['HT_5lm_week_ranking', 'AT_5lm_week_ranking', 'HT_3lm_week_ranking', 'AT_3lm_week_ranking', 'HT_1lm_week_ranking', 'AT_1lm_week_ranking', 'Diff_HT_ranking_5lm', 'Diff_AT_ranking_5lm', 'Diff_HT_ranking_3lm', 'Diff_AT_ranking_3lm', 'Diff_HT_ranking_1lm', 'Diff_AT_ranking_1lm']\n",
      "The DataFrames dataset_16 and dataset_17 are equal except for columns ['Season_year']\n"
     ]
    },
    {
     "data": {
      "text/plain": [
       "True"
      ]
     },
     "execution_count": 8,
     "metadata": {},
     "output_type": "execute_result"
    }
   ],
   "source": [
    "#src.features.make_new_features\n",
    "if __name__ == '__main__':\n",
    "    from features import make_new_features\n",
    "\n",
    "\n",
    "#We add the matchs results \n",
    "dataset_03 = make_new_features.matchs_results(dataset_02.copy())\n",
    "#We test if the previous action has not modified other col than the ones filled with their values\n",
    "useful_functions.compare_2_df_excepted_col(['RH',\n",
    "                                            'RA'], dataset_02.copy(), dataset_03.copy(), 'dataset_02', 'dataset_03')\n",
    "\n",
    "\n",
    "#We add the Home or Away status of the teams\n",
    "dataset_04 = make_new_features.home_away_status(dataset_03.copy())\n",
    "#We test if the previous action has not modified other col than the ones filled with their values\n",
    "useful_functions.compare_2_df_excepted_col(['HT_H_A_status',\n",
    "                                            'AT_H_A_status'], dataset_03.copy(), dataset_04.copy(), 'dataset_03', 'dataset_04')\n",
    "\n",
    "\n",
    "#Calculation and manipulation of NB DE MATCHS et NB DE VICTOIRES (pm, sbos)\n",
    "#VARIABLES                    V \n",
    "# We add the number of matches and number of victories\n",
    "dataset_05 = make_new_features.nb_matchs_nb_victories(dico_col_rk.copy(), dataset_04.copy())\n",
    "#We test if the previous action has not modified other col than the ones filled with their values\n",
    "useful_functions.compare_2_df_excepted_col(['HT_played_matchs_nb',\n",
    "                                            'AT_played_matchs_nb',\n",
    "                                            'HT_victories_nb',\n",
    "                                            'AT_victories_nb'], dataset_04.copy(), dataset_05.copy(), 'dataset_04', 'dataset_05')\n",
    "\n",
    "#Calculation and manipulation of VICTORY (pm, sbos):\n",
    "#VARIABLE                     X\n",
    "#PER MATCH AVG                V \n",
    "#PER MATCH AVG HT/AT DIFF     V\n",
    "#We add the avg victories per match and its HT-AT difference\n",
    "dataset_06 = make_new_features.victories_per_match_AVG_and_DIFF(dataset_05.copy())\n",
    "#We test if the previous action has not modified other col than the ones filled with their values\n",
    "useful_functions.compare_2_df_excepted_col(['HT_avg_victory_pm',\n",
    "                                            'AT_avg_victory_pm',\n",
    "                                            'Diff_HT_avg_victory_pm',\n",
    "                                            'Diff_AT_avg_victory_pm'], dataset_05.copy(), dataset_06.copy(), 'dataset_05', 'dataset_06')\n",
    "\n",
    "#(POINTS COLLECTED x (1 + ADVERSARY AVG VICTORY PER MATCH)) (pm, sbos):\n",
    "#VARIABLE                     V\n",
    "#PER MATCH AVG                V\n",
    "#PER MATCH AVG HT/AT DIFF     V\n",
    "#We add the avg points per match ponderated by adversary perf, and its HT-AT difference\n",
    "dataset_07 = make_new_features.points_pm_ponderated_by_adversary_perf(dico_col_rk.copy(), dataset_06.copy())\n",
    "#We test if the previous action has not modified other col than the ones filled with their values\n",
    "useful_functions.compare_2_df_excepted_col(['HT_points_ponderated_by_adversary_perf',\n",
    "                                            'AT_points_ponderated_by_adversary_perf',\n",
    "                                            'HT_avg_pm_points_ponderated_by_adversary_perf',  \n",
    "                                            'AT_avg_pm_points_ponderated_by_adversary_perf', 'HT_Diff_points_ponderated_by_adversary_perf', 'AT_Diff_points_ponderated_by_adversary_perf'], dataset_06.copy(), dataset_07.copy(), 'dataset_06', 'dataset_07')\n",
    "\n",
    "#Calculation and manipulation of NB OF SCORED GOALS and NB CONCEDED GOALS (pm, sbos)\n",
    "#VARRIABLE                    V\n",
    "#We add the nb of goals scored and conceded\n",
    "dataset_08 = make_new_features.scored_and_conceded_goals(dico_col_rk.copy(), dataset_07.copy())\n",
    "#We test if the previous action has not modified other col than the ones filled with their values\n",
    "useful_functions.compare_2_df_excepted_col(['scored_goals_HT_PM',\n",
    "                                            'conceded_goals_HT_PM',\n",
    "                                            'scored_goals_AT_PM',  \n",
    "                                            'conceded_goals_AT_PM'], dataset_07.copy(), dataset_08.copy(), 'dataset_07', 'dataset_08')\n",
    "\n",
    "\n",
    "#GOAL DIFFERENCE (pm, sbos): \n",
    "#VARIABLE                     V\n",
    "#PER MATCH AVG                V\n",
    "#PER MATCH AVG HT/AT DIFF     V\n",
    "#We add the goal difference\n",
    "dataset_09 = make_new_features.goal_difference(dataset_08.copy())\n",
    "#We test if the previous action has not modified other col than the ones filled with their values\n",
    "useful_functions.compare_2_df_excepted_col(['goal_diff_HT_PM',\n",
    "                                            'goal_diff_AT_PM',\n",
    "                                            'HT_avg_goal_diff_pm',  \n",
    "                                            'AT_avg_goal_diff_pm',\n",
    "                                            'Diff_HT_goal_diff_pm',\n",
    "                                            'Diff_AT_goal_diff_pm'], dataset_08.copy(), dataset_09.copy(), 'dataset_08', 'dataset_09')\n",
    "\n",
    "\n",
    "#SCORED GOALS / CONCEDED GOALS (pm, sbos):\n",
    "#VARIABLE                     V\n",
    "#PER MATCH AVG                X \n",
    "#HT/AT DIFF                   V\n",
    "#We add the ratio scored goals/conceded goals\n",
    "dataset_10 = make_new_features.scored_conceded_goals_ratio(dataset_09.copy())\n",
    "#We test if the previous action has not modified other col than the ones filled with their values\n",
    "useful_functions.compare_2_df_excepted_col(['HT_avg_scored_g_conceded_g_ratio',\n",
    "                                            'AT_avg_scored_g_conceded_g_ratio',\n",
    "                                            'Diff_HT_avg_scored_g_conceded_g_ratio',  \n",
    "                                            'Diff_AT_avg_scored_g_conceded_g_ratio'], dataset_09.copy(), dataset_10.copy(), 'dataset_09', 'dataset_10')\n",
    "\n",
    "\n",
    "#POINTS NB (pm, sbos):\n",
    "#VARIABLE                     V\n",
    "#PER MATCH AVG                V\n",
    "#PER MATCH AVG HT/AT DIFF     V\n",
    "#We add the points number\n",
    "dataset_11 = make_new_features.points_nb(dico_col_rk.copy(),dataset_10.copy())\n",
    "#We test if the previous action has not modified other col than the ones filled with their values\n",
    "useful_functions.compare_2_df_excepted_col(['Prematch_HT_PN',\n",
    "                                            'Prematch_AT_PN',\n",
    "                                            'HT_avg_collected_points_pm',  \n",
    "                                            'AT_avg_collected_points_pm',\n",
    "                                            'Diff_pnt_HT_ratio',\n",
    "                                            'Diff_pnt_AT_ratio'], dataset_10.copy(), dataset_11.copy(), 'dataset_10', 'dataset_11')\n",
    "\n",
    "\n",
    "\n",
    "#RANKING (pm, sbos) :\n",
    "#VARIABLE                     V\n",
    "#PER MATCH AVG                X\n",
    "#HT/AT DIFF                   V\n",
    "#We add ranks prematch\n",
    "dataset_12 = make_new_features.ranking(dico_col_rk.copy(), dataset_11.copy())\n",
    "#We test if the previous action has not modified other col than the ones filled with their values\n",
    "useful_functions.compare_2_df_excepted_col(['HT_week_ranking',\n",
    "                                            'AT_week_ranking',\n",
    "                                            'Diff_HT_ranking',  \n",
    "                                            'Diff_AT_ranking'], dataset_11.copy(), dataset_12.copy(), 'dataset_11', 'dataset_12')\n",
    "\n",
    "\n",
    "#ANNUAL BUDGET:\n",
    "#VARIABLE                     V\n",
    "#PER MATCH AVG                X\n",
    "#HT/AT DIFF                   V\n",
    "#We add the annual budgets of teams\n",
    "dataset_13 = make_new_features.annnual_budget(dataset_12.copy())\n",
    "#We test if the previous action has not modified other col than the ones filled with their values\n",
    "useful_functions.compare_2_df_excepted_col(['annual budget of HT',\n",
    "                                            'annual budget of AT',\n",
    "                                            'Diff_HT_annual_budget',  \n",
    "                                            'Diff_AT_annual_budget'], dataset_12.copy(), dataset_13.copy(), 'dataset_12', 'dataset_13')\n",
    "#We test if there is no 0 values in the columns\n",
    "useful_functions.is_there_x_values(0, ['annual budget of HT','annual budget of AT'], dataset_13.copy())\n",
    "\n",
    "\n",
    "#POINTS NB ON 1,3,5 LAST MATCHES (pm)\n",
    "#VARIABLE                     V\n",
    "#PER MATCH AVG                X\n",
    "#HT/AT DIFF                   V\n",
    "#We add the points nb on 1,3,5 last matchs\n",
    "dataset_14 = make_new_features.points_nb_on_x_last_matchs(dico_col_rk.copy(), dataset_13.copy())\n",
    "#We test if the previous action has not modified other col than the ones filled with their values\n",
    "useful_functions.compare_2_df_excepted_col(['Points_HT_5lm_PM',\n",
    "                                            'Points_AT_5lm_PM',\n",
    "                                            'Points_HT_3lm_PM',\n",
    "                                            'Points_AT_3lm_PM',\n",
    "                                            'Points_HT_1lm_PM',\n",
    "                                            'Points_AT_1lm_PM',\n",
    "                                            'HT_Diff_Points_5lm',  \n",
    "                                            'AT_Diff_Points_5lm',\n",
    "                                            'HT_Diff_Points_3lm',\n",
    "                                            'AT_Diff_Points_3lm',\n",
    "                                            'HT_Diff_Points_1lm',\n",
    "                                            'AT_Diff_Points_1lm'], dataset_13.copy(), dataset_14.copy(), 'dataset_13', 'dataset_14')\n",
    "\n",
    "\n",
    "#GOAL DIFF ON 1,3,5 LAST MATCHES (pm)\n",
    "#VARIABLE                     V\n",
    "#PER MATCH AVG                X\n",
    "#HT/AT DIFF                   V\n",
    "#We add the goal diff on 1,3,5 last matches\n",
    "dataset_15 = make_new_features.goal_diff_on_x_last_matchs(dico_col_rk.copy(), dataset_14.copy())\n",
    "#We test if the previous action has not modified other col than the ones filled with their values\n",
    "useful_functions.compare_2_df_excepted_col(['GoalDiff_HT_5lm_PM',\n",
    "                                            'GoalDiff_AT_5lm_PM',\n",
    "                                            'GoalDiff_HT_3lm_PM',\n",
    "                                            'GoalDiff_AT_3lm_PM',\n",
    "                                            'GoalDiff_HT_1lm_PM',\n",
    "                                            'GoalDiff_AT_1lm_PM',\n",
    "                                            'HT_Diff_Goal_Diff_5lm',  \n",
    "                                            'AT_Diff_Goal_Diff_5lm',\n",
    "                                            'HT_Diff_Goal_Diff_3lm',\n",
    "                                            'AT_Diff_Goal_Diff_3lm',\n",
    "                                            'HT_Diff_Goal_Diff_1lm',\n",
    "                                            'AT_Diff_Goal_Diff_1lm'], dataset_14.copy(), dataset_15.copy(), 'dataset_14', 'dataset_15')\n",
    "\n",
    "\n",
    "#RANKING ON 1,3,5 LAST MATCHES (pm)\n",
    "#VARIABLE                     V\n",
    "#PER MATCH AVG                X\n",
    "#HT/AT DIFF                   V\n",
    "#We add the ranking on 1,3,5 last matches\n",
    "dataset_16 = make_new_features.ranking_on_x_last_matchs(dico_col_rk.copy(), dataset_15.copy())\n",
    "#We test if the previous action has not modified other col than the ones filled with their values\n",
    "useful_functions.compare_2_df_excepted_col(['HT_5lm_week_ranking',\n",
    "                                            'AT_5lm_week_ranking',\n",
    "                                            'HT_3lm_week_ranking',\n",
    "                                            'AT_3lm_week_ranking',\n",
    "                                            'HT_1lm_week_ranking',\n",
    "                                            'AT_1lm_week_ranking',\n",
    "                                            \"Diff_HT_ranking_5lm\",\n",
    "                                            \"Diff_AT_ranking_5lm\",\n",
    "                                            \"Diff_HT_ranking_3lm\",\n",
    "                                            \"Diff_AT_ranking_3lm\",\n",
    "                                            \"Diff_HT_ranking_1lm\",\n",
    "                                            \"Diff_AT_ranking_1lm\"], dataset_15.copy(), dataset_16.copy(), 'dataset_15', 'dataset_16')\n",
    "\n",
    "#We add the season of each match\n",
    "#VARIABLE\n",
    "dataset_17 = make_new_features.season_year(dataset_16.copy())\n",
    "#We test if the previous action has not modified other col than the ones filled with their values\n",
    "useful_functions.compare_2_df_excepted_col(['Season_year'], dataset_16.copy(), dataset_17.copy(), 'dataset_16', 'dataset_17')\n"
   ]
  },
  {
   "cell_type": "markdown",
   "metadata": {},
   "source": [
    "<span style=\"color:#FF1493;\">\n",
    "<font size=\"3\"> \n",
    "    Création/Manipulation des Statistiques de Jeu"
   ]
  },
  {
   "cell_type": "code",
   "execution_count": 9,
   "metadata": {},
   "outputs": [
    {
     "name": "stdout",
     "output_type": "stream",
     "text": [
      "The DataFrames dataset_17 and dataset_18 are equal except for columns ['HT_corners_nb', 'AT_corners_nb', 'HT_Diff_avg_corners_nb', 'AT_Diff_avg_corners_nb']\n",
      "The DataFrames dataset_18 and dataset_19 are equal except for columns ['HT_yellow_cards_nb', 'AT_yellow_cards_nb', 'HT_red_cards_nb', 'AT_red_cards_nb', 'HT_Diff_avg_yellow_cards_nb', 'AT_Diff_avg_yellow_cards_nb', 'HT_Diff_avg_red_cards_nb', 'AT_Diff_avg_red_cards_nb']\n",
      "The DataFrames dataset_19 and dataset_20 are equal except for columns ['HT_shots_nb', 'AT_shots_nb', 'HT_avg_shots_nb', 'AT_avg_shots_nb', 'HT_Diff_avg_shots_nb', 'AT_Diff_avg_shots_nb']\n",
      "The DataFrames dataset_20 and dataset_21 are equal except for columns ['HT_shots_on_target_nb', 'AT_shots_on_target_nb', 'HT_avg_shots_on_target_nb', 'AT_avg_shots_on_target_nb', 'HT_Diff_avg_shots_on_target_nb', 'AT_Diff_avg_shots_on_target_nb']\n",
      "The DataFrames dataset_21 and dataset_22 are equal except for columns ['HT_fouls_nb', 'AT_fouls_nb', 'HT_avg_fouls_nb', 'AT_avg_fouls_nb', 'HT_Diff_avg_fouls_nb', 'AT_Diff_avg_fouls_nb']\n",
      "The DataFrames dataset_22 and dataset_23 are equal except for columns ['HT_possession', 'AT_possession', 'HT_avg_possession', 'AT_avg_possession', 'HT_Diff_avg_possession', 'AT_Diff_avg_possession']\n",
      "The DataFrames dataset_23 and dataset_24 are equal except for columns ['HT_xg', 'AT_xg', 'HT_avg_xg', 'AT_avg_xg', 'HT_Diff_avg_xg', 'AT_Diff_avg_xg']\n"
     ]
    },
    {
     "data": {
      "text/plain": [
       "True"
      ]
     },
     "execution_count": 9,
     "metadata": {},
     "output_type": "execute_result"
    }
   ],
   "source": [
    "#src.features.make_new_features\n",
    "\n",
    "#CORNERS NB (pm, sbos)\n",
    "#VARIABLE                    V\n",
    "#PER MATCH AVG               X\n",
    "#PER MATCH AVG HT/AT DIFF    V\n",
    "dataset_18 = make_new_features.corners_nb(dico_col_rk.copy(), dataset_17.copy())\n",
    "#We test if the previous action has not modified other col than the ones filled with their values\n",
    "useful_functions.compare_2_df_excepted_col(['HT_corners_nb',\n",
    "                                            'AT_corners_nb',\n",
    "                                            'HT_Diff_avg_corners_nb',\n",
    "                                            'AT_Diff_avg_corners_nb'], dataset_17.copy(), dataset_18.copy(), 'dataset_17', 'dataset_18')\n",
    "\n",
    "#YELLOW, RED CARDS NB (pm, sbos)\n",
    "#VARIABLE                    V\n",
    "#PER MATCH AVG               X\n",
    "#PER MATCH AVG HT/AT DIFF    V\n",
    "dataset_19 = make_new_features.yellow_red_cards(dico_col_rk.copy(), dataset_18.copy())\n",
    "#We test if the previous action has not modified other col than the ones filled with their values\n",
    "useful_functions.compare_2_df_excepted_col(['HT_yellow_cards_nb',\n",
    "                                            'AT_yellow_cards_nb',\n",
    "                                            'HT_red_cards_nb',\n",
    "                                            'AT_red_cards_nb',\n",
    "                                            'HT_Diff_avg_yellow_cards_nb',\n",
    "                                            'AT_Diff_avg_yellow_cards_nb',\n",
    "                                            'HT_Diff_avg_red_cards_nb',\n",
    "                                            'AT_Diff_avg_red_cards_nb',], dataset_18.copy(), dataset_19.copy(), 'dataset_18', 'dataset_19')\n",
    "\n",
    "#SHOTS NB (pm, sbos)\n",
    "#VARIABLE                    V\n",
    "#PER MATCH AVG               V\n",
    "#PER MATCH AVG HT/AT DIFF    V\n",
    "dataset_20 = make_new_features.shots_nb(dico_col_rk.copy(), dataset_19.copy())\n",
    "#We test if the previous action has not modified other col than the ones filled with their values\n",
    "useful_functions.compare_2_df_excepted_col(['HT_shots_nb',\n",
    "                                            'AT_shots_nb',\n",
    "                                            'HT_avg_shots_nb',\n",
    "                                            'AT_avg_shots_nb',\n",
    "                                            'HT_Diff_avg_shots_nb',\n",
    "                                            'AT_Diff_avg_shots_nb'], dataset_19.copy(), dataset_20.copy(), 'dataset_19', 'dataset_20')\n",
    "\n",
    "#SHOTS ON TARGET NB (pm, sbos)\n",
    "#VARIABLE                    V\n",
    "#PER MATCH AVG               V\n",
    "#PER MATCH AVG HT/AT DIFF    V\n",
    "dataset_21 = make_new_features.shots_on_target_nb(dico_col_rk.copy(), dataset_20.copy())\n",
    "#We test if the previous action has not modified other col than the ones filled with their values\n",
    "useful_functions.compare_2_df_excepted_col(['HT_shots_on_target_nb',\n",
    "                                            'AT_shots_on_target_nb',\n",
    "                                            'HT_avg_shots_on_target_nb',\n",
    "                                            'AT_avg_shots_on_target_nb',\n",
    "                                            'HT_Diff_avg_shots_on_target_nb',\n",
    "                                            'AT_Diff_avg_shots_on_target_nb'], dataset_20.copy(), dataset_21.copy(), 'dataset_20', 'dataset_21')\n",
    "\n",
    "#FOULS NB (pm, sbos)\n",
    "#VARIABLE                    V\n",
    "#PER MATCH AVG               V\n",
    "#PER MATCH AVG HT/AT DIFF    V\n",
    "dataset_22 = make_new_features.fouls_nb(dico_col_rk.copy(), dataset_21.copy())\n",
    "#We test if the previous action has not modified other col than the ones filled with their values\n",
    "useful_functions.compare_2_df_excepted_col(['HT_fouls_nb',\n",
    "                                            'AT_fouls_nb',\n",
    "                                            'HT_avg_fouls_nb',\n",
    "                                            'AT_avg_fouls_nb',\n",
    "                                            'HT_Diff_avg_fouls_nb',\n",
    "                                            'AT_Diff_avg_fouls_nb'], dataset_21.copy(), dataset_22.copy(), 'dataset_21', 'dataset_22')\n",
    "\n",
    "#POSSESSION (pm, sbos)\n",
    "#VARIABLE                    V\n",
    "#PER MATCH AVG               V\n",
    "#PER MATCH AVG HT/AT DIFF    V\n",
    "dataset_23 = make_new_features.possession(dico_col_rk.copy(), dataset_22.copy())\n",
    "#We test if the previous action has not modified other col than the ones filled with their values\n",
    "useful_functions.compare_2_df_excepted_col(['HT_possession',\n",
    "                                            'AT_possession',\n",
    "                                            'HT_avg_possession',\n",
    "                                            'AT_avg_possession',\n",
    "                                            'HT_Diff_avg_possession',\n",
    "                                            'AT_Diff_avg_possession'], dataset_22.copy(), dataset_23.copy(), 'dataset_22', 'dataset_23')\n",
    "\n",
    "#EXPECTED GOALS / XG (pm, sbos)\n",
    "#VARIABLE                    V\n",
    "#PER MATCH AVG               V\n",
    "#PER MATCH AVG HT/AT DIFF    V\n",
    "dataset_24 = make_new_features.expected_goals(dico_col_rk.copy(), dataset_23.copy())\n",
    "#We test if the previous action has not modified other col than the ones filled with their values\n",
    "useful_functions.compare_2_df_excepted_col(['HT_xg',\n",
    "                                            'AT_xg',\n",
    "                                            'HT_avg_xg',\n",
    "                                            'AT_avg_xg',\n",
    "                                            'HT_Diff_avg_xg',\n",
    "                                            'AT_Diff_avg_xg'], dataset_23.copy(), dataset_24.copy(), 'dataset_23', 'dataset_24')"
   ]
  },
  {
   "cell_type": "markdown",
   "metadata": {},
   "source": [
    "<span style=\"color:#FF1493;\">\n",
    "<font size=\"3\"> \n",
    "    Création/Manipulation des Statistiques de Côte"
   ]
  },
  {
   "cell_type": "code",
   "execution_count": 10,
   "metadata": {},
   "outputs": [
    {
     "name": "stdout",
     "output_type": "stream",
     "text": [
      "The DataFrames dataset_24 and dataset_25 are equal except for columns ['HT_odds_victory_proba', 'AT_odds_victory_proba', 'HT_avg_odds_victory_proba', 'AT_avg_odds_victory_proba', 'HT_Diff_avg_odds_victory_proba', 'AT_Diff_avg_odds_victory_proba']\n",
      "The DataFrames dataset_25 and dataset_26 are equal except for columns ['HTW_Max_odd', 'ATW_Max_odd', 'D_Max_odd']\n",
      "The DataFrames dataset_26 and dataset_27 are equal except for columns ['HTW_avg_odd', 'ATW_avg_odd', 'D_avg_odd']\n"
     ]
    }
   ],
   "source": [
    "#src.features.make_new_features\n",
    "\n",
    "# 1/VICTORY ODDS  (pm, sbos)\n",
    "#VARIABLE                    V\n",
    "#PER MATCH AVG               V\n",
    "#PER MATCH AVG HT/AT DIFF    V\n",
    "dataset_25 = make_new_features.odds_victory_proba(dico_col_rk.copy(), dataset_24.copy())\n",
    "#We test if the previous action has not modified other col than the ones filled with their values\n",
    "useful_functions.compare_2_df_excepted_col(['HT_odds_victory_proba',\n",
    "                                            'AT_odds_victory_proba',\n",
    "                                            'HT_avg_odds_victory_proba',\n",
    "                                            'AT_avg_odds_victory_proba',\n",
    "                                            'HT_Diff_avg_odds_victory_proba',\n",
    "                                            'AT_Diff_avg_odds_victory_proba'], dataset_24.copy(), dataset_25.copy(), 'dataset_24', 'dataset_25')\n",
    "\n",
    "#Max odd\n",
    "#Variable\n",
    "#VARIABLE                    V\n",
    "#PER MATCH AVG               X\n",
    "#PER MATCH AVG HT/AT DIFF    X\n",
    "dataset_26 = make_new_features.max_odd(dataset_25.copy(),  dataset_football_data_02.copy())\n",
    "#We test if the previous action has not modified other col than the ones filled with their values\n",
    "useful_functions.compare_2_df_excepted_col(['HTW_Max_odd',\n",
    "                                            'ATW_Max_odd',\n",
    "                                            'D_Max_odd'], dataset_25.copy(), dataset_26.copy(), 'dataset_25', 'dataset_26')\n",
    "\n",
    "#Avg odd\n",
    "#Variable\n",
    "#VARIABLE                    V\n",
    "#PER MATCH AVG               X\n",
    "#PER MATCH AVG HT/AT DIFF    X\n",
    "dataset_27 = make_new_features.avg_odd(dataset_26.copy(),  dataset_football_data_02.copy())\n",
    "#We test if the previous action has not modified other col than the ones filled with their values\n",
    "useful_functions.compare_2_df_excepted_col(['HTW_avg_odd',\n",
    "                                            'ATW_avg_odd',\n",
    "                                            'D_avg_odd'], dataset_26.copy(), dataset_27.copy(), 'dataset_26', 'dataset_27')\n",
    "\n",
    "#Defining a dataframe that contains the data after features engineering\n",
    "feat_engineered_ds = dataset_27"
   ]
  },
  {
   "cell_type": "markdown",
   "metadata": {},
   "source": [
    "<span style=\"color:#FF1493;\"> <strong> <font size=\"4\">4) Save dataset and look for changes"
   ]
  },
  {
   "cell_type": "code",
   "execution_count": null,
   "metadata": {},
   "outputs": [
    {
     "name": "stdout",
     "output_type": "stream",
     "text": [
      "The dataframes are the same for both old and new feat_engineered_ds\n",
      "Successfully deleted the old file: feat_engineered_ds\n",
      "Successfully saved the new dataframe: feat_engineered_ds\n",
      "The old feat_engineered_ds_test, and the new one ARE the same \n",
      "\n",
      "The old 'feat_engineered_ds_test' file was well deleted\n",
      "The new 'feat_engineered_ds_test' file was well saved \n",
      "\n"
     ]
    }
   ],
   "source": [
    "#Save the dataset\n",
    "make_dataset.save_dataframe_into_data_interim(feat_engineered_ds, 'feat_engineered_ds')\n",
    "\n",
    "#src.tests\n",
    "# A test made to spot changes in the whole dataframe between the dataframe created by the last iteration of the programm and the previous one saved\n",
    "\"\"\"\n",
    "import tests\n",
    "\n",
    "tests.test_changes_on_dataset(feat_engineered_ds.copy(), 'feat_engineered_ds_test')\n",
    "\"\"\""
   ]
  }
 ],
 "metadata": {
  "kernelspec": {
   "display_name": "env-projet-mbappe",
   "language": "python",
   "name": "python3"
  },
  "language_info": {
   "codemirror_mode": {
    "name": "ipython",
    "version": 3
   },
   "file_extension": ".py",
   "mimetype": "text/x-python",
   "name": "python",
   "nbconvert_exporter": "python",
   "pygments_lexer": "ipython3",
   "version": "3.11.5"
  }
 },
 "nbformat": 4,
 "nbformat_minor": 2
}
