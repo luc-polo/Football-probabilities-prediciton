{
 "cells": [
  {
   "cell_type": "code",
   "execution_count": null,
   "metadata": {},
   "outputs": [
    {
     "data": {
      "text/plain": [
       "\" \\nThis module is gonna be the center of control of my programm. That's where I am gonna lunch the execution of the different parts of the code. Depending on what I want to do I will run part(s) of the project or the whole one. For instance, if I want to test the complete programm I will be able to run all with one click. At the opposite, if I want to test a new module functionnning, I will run this one only. \\n\\nModules as useful_functions and constant_variables are not imported here as already imported inside modules that use them.\\n\""
      ]
     },
     "execution_count": 6,
     "metadata": {},
     "output_type": "execute_result"
    }
   ],
   "source": [
    "\"\"\" \n",
    "This module is gonna be the center of control of my programm. That's where I am gonna lunch the execution of the different parts of the code. Depending on what I want to do I will run part(s) of the project or the whole one. For instance, if I want to test the complete programm I will be able to run all with one click. At the opposite, if I want to test a new module functionnning, I will run this one only. \n",
    "\n",
    "Modules as useful_functions and constant_variables are not imported here as already imported inside modules that use them.\n",
    "\"\"\""
   ]
  },
  {
   "cell_type": "code",
   "execution_count": 26,
   "metadata": {},
   "outputs": [
    {
     "ename": "AttributeError",
     "evalue": "module 'data.make_dataset' has no attribute 'save_dataframe_into_data_interim'",
     "output_type": "error",
     "traceback": [
      "\u001b[1;31m---------------------------------------------------------------------------\u001b[0m",
      "\u001b[1;31mAttributeError\u001b[0m                            Traceback (most recent call last)",
      "Cell \u001b[1;32mIn[26], line 11\u001b[0m\n\u001b[0;32m      8\u001b[0m dataset \u001b[38;5;241m=\u001b[39m make_dataset\u001b[38;5;241m.\u001b[39mread_data(make_dataset\u001b[38;5;241m.\u001b[39mfiles)\n\u001b[0;32m     10\u001b[0m \u001b[38;5;66;03m# We save the dataframe created into data/interim folder, after having deleted the old one.\u001b[39;00m\n\u001b[1;32m---> 11\u001b[0m \u001b[43mmake_dataset\u001b[49m\u001b[38;5;241;43m.\u001b[39;49m\u001b[43msave_dataframe_into_data_interim\u001b[49m(dataset)\n",
      "\u001b[1;31mAttributeError\u001b[0m: module 'data.make_dataset' has no attribute 'save_dataframe_into_data_interim'"
     ]
    }
   ],
   "source": [
    "\n",
    "#src.data.make_dataset\n",
    "if __name__ == '__main__':\n",
    "    from data import make_dataset\n",
    "\n",
    "#We only execute the whole make_dataset module\n",
    "    \n",
    "# convert csv files into a big dataframe\n",
    "dataset = make_dataset.read_data(make_dataset.files)\n",
    "\n",
    "# We save the dataframe created into data/interim folder, after having deleted the old one.\n",
    "make_dataset.save_dataframe_into_data_interim(dataset)"
   ]
  },
  {
   "cell_type": "code",
   "execution_count": 22,
   "metadata": {},
   "outputs": [],
   "source": [
    "\n",
    "#We import the dataset, it's useful for all the execution below\n",
    "if __name__ == '__main__':\n",
    "    dataset = make_dataset.load_data()\n"
   ]
  },
  {
   "cell_type": "code",
   "execution_count": null,
   "metadata": {},
   "outputs": [],
   "source": [
    "if __name__ == '__main__':\n",
    "    from visualization import visualize\n",
    "\n",
    "\n",
    "#We execute the whole visualize module.\n",
    "#There are several functions to run in this module that are very specific. They are made to identify specific features outliers. We better have to go to the module to run it.\n",
    "\n",
    "visualize.plot_all_num_features(dataset, save = False, density_estimate = False)\n",
    "    "
   ]
  }
 ],
 "metadata": {
  "kernelspec": {
   "display_name": "env-projet-mbappe",
   "language": "python",
   "name": "python3"
  },
  "language_info": {
   "codemirror_mode": {
    "name": "ipython",
    "version": 3
   },
   "file_extension": ".py",
   "mimetype": "text/x-python",
   "name": "python",
   "nbconvert_exporter": "python",
   "pygments_lexer": "ipython3",
   "version": "3.11.5"
  }
 },
 "nbformat": 4,
 "nbformat_minor": 2
}
