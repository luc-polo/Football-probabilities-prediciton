{
 "cells": [
  {
   "cell_type": "code",
   "execution_count": 1,
   "metadata": {},
   "outputs": [
    {
     "data": {
      "text/plain": [
       "\" \\nThis module is gonna be the center of control of my programm. That's where I am gonna lunch the execution of the different parts of the code. Depending on what I want to do I will run part(s) of the project or the whole one. For instance, if I want to test the complete programm I will be able to run all with one click. At the opposite, if I want to test a new module functionnning, I will run this one only. \\n\\n\""
      ]
     },
     "execution_count": 1,
     "metadata": {},
     "output_type": "execute_result"
    }
   ],
   "source": [
    "\"\"\" \n",
    "This module is gonna be the center of control of my programm. That's where I am gonna lunch the execution of the different parts of the code. Depending on what I want to do I will run part(s) of the project or the whole one. For instance, if I want to test the complete programm I will be able to run all with one click. At the opposite, if I want to test a new module functionnning, I will run this one only. \n",
    "\n",
    "\"\"\""
   ]
  },
  {
   "cell_type": "code",
   "execution_count": 1,
   "metadata": {},
   "outputs": [],
   "source": [
    "#src.useful_functions\n",
    "\n",
    "if __name__ == '__main__':\n",
    "    import useful_functions"
   ]
  },
  {
   "cell_type": "markdown",
   "metadata": {},
   "source": [
    "<font color=\"green\">Convert csv into dataframe</font>"
   ]
  },
  {
   "cell_type": "code",
   "execution_count": 2,
   "metadata": {},
   "outputs": [
    {
     "name": "stdout",
     "output_type": "stream",
     "text": [
      "The old data_interim.pkl file, and the new one ARE the same\n",
      "The old 'data_interim.pkl' file was well deleted\n",
      "The new 'data_interim.pkl' file was well saved \n",
      "\n",
      "This dataframe contains matchs of the seasons:  [2015 2016 2017 2018 2019 2020 2021 2022 2023]\n"
     ]
    }
   ],
   "source": [
    "#src.data.make_dataset\n",
    "\n",
    "if __name__ == '__main__':\n",
    "    from data import make_dataset\n",
    "\n",
    "files = [make_dataset.adr1, make_dataset.adr2, make_dataset.adr3, make_dataset.adr4, \n",
    "         make_dataset.adr5, make_dataset.adr6, make_dataset.adr7, make_dataset.adr8, \n",
    "         make_dataset.adr9]\n",
    "\n",
    "# convert csv files into a big dataframe\n",
    "dataset_to_save = make_dataset.read_data(files)\n",
    "\n",
    "# We save the dataframe created into data/interim folder, after having deleted the old one.\n",
    "make_dataset.save_dataframe_into_data_interim(dataset_to_save)\n",
    "\n",
    "#Open the dataframe saved\n",
    "dataset_01 = make_dataset.load_data(seasons_present_in_df_info=True)"
   ]
  },
  {
   "cell_type": "markdown",
   "metadata": {},
   "source": [
    "<font color=\"green\">Visualize raw data histograms</font>\n"
   ]
  },
  {
   "cell_type": "code",
   "execution_count": null,
   "metadata": {},
   "outputs": [],
   "source": [
    "#src.visualization.visualize\n",
    "\n",
    "if __name__ == '__main__':\n",
    "    from visualization import visualize\n",
    "\n",
    "\n",
    "#There are several functions to run in this module that are very specific. They are made to identify specific features outliers. We better have to go to the module to run it.\n",
    "\n",
    "visualize.plot_all_num_features(dataset_01.copy(), save = False, density_estimate = False)\n",
    "    "
   ]
  },
  {
   "cell_type": "markdown",
   "metadata": {},
   "source": [
    "<font color=\"green\">Create columns into dataset:</font>"
   ]
  },
  {
   "cell_type": "code",
   "execution_count": 3,
   "metadata": {},
   "outputs": [
    {
     "name": "stdout",
     "output_type": "stream",
     "text": [
      "the function add_columns_and_complete_col_ranks() was executed correctly\n"
     ]
    },
    {
     "data": {
      "text/plain": [
       "True"
      ]
     },
     "execution_count": 3,
     "metadata": {},
     "output_type": "execute_result"
    }
   ],
   "source": [
    "#features.initialize_new_features_columns\n",
    "\n",
    "if __name__ == '__main__':\n",
    "    from features import initialize_new_features_columns\n",
    "\n",
    "#We create the new columns in dataset and stock the columns ranks variables into dico_col_rk\n",
    "dataset_02, dico_col_rk = initialize_new_features_columns.add_columns_and_complete_col_ranks(dataset_01.copy())\n",
    "\n",
    "#We execute a test to verify the columns and columns ranks variables have been correcctly created\n",
    "initialize_new_features_columns.test_columns_ranks(dico_col_rk, theoritical_df_col_nb = 190, dataset_0 = dataset_02.copy())\n"
   ]
  },
  {
   "cell_type": "markdown",
   "metadata": {},
   "source": [
    "<span style=\"color:#FF1493;\">\n",
    "<font size=\"4\"> \n",
    "<strong>\n",
    "    Création/Manipulation des Statistiques de Resultat\n",
    "</span style=\"color:#FF1493;\"> </font size=\"4\"> </strong>\n",
    "\n",
    "(pm = pre-match)\n",
    "(sbos = since the beginning of the season)"
   ]
  },
  {
   "cell_type": "code",
   "execution_count": 4,
   "metadata": {},
   "outputs": [
    {
     "name": "stdout",
     "output_type": "stream",
     "text": [
      "The DataFrames are equal except for columns ['RH', 'RA']\n",
      "The DataFrames are equal except for columns ['HT_H_A_status', 'AT_H_A_status']\n",
      "The DataFrames are equal except for columns ['HT_played_matchs_nb', 'AT_played_matchs_nb', 'HT_victories_nb', 'AT_victories_nb']\n",
      "The DataFrames are equal except for columns ['HT_avg_victory_pm', 'AT_avg_victory_pm', 'Diff_HT_avg_victory_pm', 'Diff_AT_avg_victory_pm']\n",
      "The DataFrames are equal except for columns ['HT_points_ponderated_by_adversary_perf', 'AT_points_ponderated_by_adversary_perf', 'HT_avg_pm_points_ponderated_by_adversary_perf', 'AT_avg_pm_points_ponderated_by_adversary_perf', 'HT_Diff_points_ponderated_by_adversary_perf', 'AT_Diff_points_ponderated_by_adversary_perf']\n",
      "The DataFrames are equal except for columns ['scored_goals_HT_PM', 'conceeded_goals_HT_PM', 'scored_goals_AT_PM', 'conceeded_goals_AT_PM']\n"
     ]
    },
    {
     "ename": "AttributeError",
     "evalue": "'NoneType' object has no attribute 'copy'",
     "output_type": "error",
     "traceback": [
      "\u001b[1;31m---------------------------------------------------------------------------\u001b[0m",
      "\u001b[1;31mAttributeError\u001b[0m                            Traceback (most recent call last)",
      "Cell \u001b[1;32mIn[4], line 61\u001b[0m\n\u001b[0;32m     59\u001b[0m dataset_09 \u001b[38;5;241m=\u001b[39m make_new_features\u001b[38;5;241m.\u001b[39mgoal_difference(dataset_08)\n\u001b[0;32m     60\u001b[0m \u001b[38;5;66;03m#We test if the previous action has not modified other col than the ones filled with their values\u001b[39;00m\n\u001b[1;32m---> 61\u001b[0m \u001b[43museful_functions\u001b[49m\u001b[38;5;241;43m.\u001b[39;49m\u001b[43mcompare_2_df_excepted_col\u001b[49m\u001b[43m(\u001b[49m\u001b[43m[\u001b[49m\u001b[38;5;124;43m'\u001b[39;49m\u001b[38;5;124;43mgoal_diff_HT_PM\u001b[39;49m\u001b[38;5;124;43m'\u001b[39;49m\u001b[43m,\u001b[49m\n\u001b[0;32m     62\u001b[0m \u001b[43m                                            \u001b[49m\u001b[38;5;124;43m'\u001b[39;49m\u001b[38;5;124;43mgoal_diff_AT_PM\u001b[39;49m\u001b[38;5;124;43m'\u001b[39;49m\u001b[43m,\u001b[49m\n\u001b[0;32m     63\u001b[0m \u001b[43m                                            \u001b[49m\u001b[38;5;124;43m'\u001b[39;49m\u001b[38;5;124;43mHT_avg_goal_diff_pm\u001b[39;49m\u001b[38;5;124;43m'\u001b[39;49m\u001b[43m,\u001b[49m\u001b[43m  \u001b[49m\n\u001b[0;32m     64\u001b[0m \u001b[43m                                            \u001b[49m\u001b[38;5;124;43m'\u001b[39;49m\u001b[38;5;124;43mAT_avg_goal_diff_pm\u001b[39;49m\u001b[38;5;124;43m'\u001b[39;49m\u001b[43m]\u001b[49m\u001b[43m,\u001b[49m\u001b[43m \u001b[49m\u001b[43mdataset_08\u001b[49m\u001b[43m,\u001b[49m\u001b[43m \u001b[49m\u001b[43mdataset_09\u001b[49m\u001b[43m)\u001b[49m\n",
      "File \u001b[1;32mc:\\Users\\polol\\OneDrive\\Documents\\ML\\Projet Mbappe (11.23- )\\Projet Mbappe Cookiestructure\\src\\useful_functions.py:471\u001b[0m, in \u001b[0;36mcompare_2_df_excepted_col\u001b[1;34m(col_not_to_compare, df1, df2)\u001b[0m\n\u001b[0;32m    457\u001b[0m \u001b[38;5;250m\u001b[39m\u001b[38;5;124;03m\"\"\"  \u001b[39;00m\n\u001b[0;32m    458\u001b[0m \u001b[38;5;124;03mThis function is used to compare two dataframes, saying if they are exactly the same, excluding one column from the comparaison. That's useful during the process of columns filling. For instance, when we've just filled a column with values, we want to make sure that other columns were not modified too. So we use this funct° to compare the dataframe before filling and the one after filling, excluding the column filled from the comparaison.\u001b[39;00m\n\u001b[0;32m    459\u001b[0m \u001b[38;5;124;03m\u001b[39;00m\n\u001b[1;32m   (...)\u001b[0m\n\u001b[0;32m    468\u001b[0m \u001b[38;5;124;03m    boolean: Wether the both dataframe are the same at the exception of the col_not_to_compare.\u001b[39;00m\n\u001b[0;32m    469\u001b[0m \u001b[38;5;124;03m\"\"\"\u001b[39;00m\n\u001b[0;32m    470\u001b[0m df1_0 \u001b[38;5;241m=\u001b[39m df1\u001b[38;5;241m.\u001b[39mcopy()\n\u001b[1;32m--> 471\u001b[0m df2_0 \u001b[38;5;241m=\u001b[39m \u001b[43mdf2\u001b[49m\u001b[38;5;241;43m.\u001b[39;49m\u001b[43mcopy\u001b[49m()\n\u001b[0;32m    473\u001b[0m \u001b[38;5;66;03m# Remove col_not_to_compare from our datasets\u001b[39;00m\n\u001b[0;32m    474\u001b[0m df1_0 \u001b[38;5;241m=\u001b[39m df1_0\u001b[38;5;241m.\u001b[39mdrop(columns\u001b[38;5;241m=\u001b[39mcol_not_to_compare)\n",
      "\u001b[1;31mAttributeError\u001b[0m: 'NoneType' object has no attribute 'copy'"
     ]
    }
   ],
   "source": [
    "\n",
    "#src.features.make_new_features\n",
    "if __name__ == '__main__':\n",
    "    from features import make_new_features\n",
    "\n",
    "\n",
    "#We add the matchs results \n",
    "dataset_03 = make_new_features.matchs_results(dataset_02.copy())\n",
    "#We test if the previous action has not modified other col than the ones filled with their values\n",
    "useful_functions.compare_2_df_excepted_col(['RH',\n",
    "                                            'RA'], dataset_02, dataset_03)\n",
    "\n",
    "\n",
    "\n",
    "#We add the Home or Away status of the teams\n",
    "dataset_04 = make_new_features.home_away_status(dataset_03.copy())\n",
    "#We test if the previous action has not modified other col than the ones filled with their values\n",
    "useful_functions.compare_2_df_excepted_col(['HT_H_A_status',\n",
    "                                            'AT_H_A_status'], dataset_03, dataset_04)\n",
    "\n",
    "\n",
    "\n",
    "# We add the number of matches and number of victories\n",
    "dataset_05 = make_new_features.nb_matchs_nb_victories(dico_col_rk.copy(), dataset_04.copy())\n",
    "#We test if the previous action has not modified other col than the ones filled with their values\n",
    "useful_functions.compare_2_df_excepted_col(['HT_played_matchs_nb',\n",
    "                                            'AT_played_matchs_nb',\n",
    "                                            'HT_victories_nb',\n",
    "                                            'AT_victories_nb'], dataset_04, dataset_05)\n",
    "\n",
    "\n",
    "#We add the avg victories per match and its HT-AT difference\n",
    "dataset_06 = make_new_features.victories_per_match_AVG_and_DIFF(dataset_05.copy())\n",
    "#We test if the previous action has not modified other col than the ones filled with their values\n",
    "useful_functions.compare_2_df_excepted_col(['HT_avg_victory_pm',\n",
    "                                            'AT_avg_victory_pm',\n",
    "                                            'Diff_HT_avg_victory_pm',\n",
    "                                            'Diff_AT_avg_victory_pm'], dataset_05, dataset_06)\n",
    "\n",
    "\n",
    "#We add the avg points per match ponderated by adversary perf, and its HT-AT difference\n",
    "dataset_07 = make_new_features.points_pm_ponderated_by_adversary_perf(dico_col_rk.copy(), dataset_06.copy())\n",
    "#We test if the previous action has not modified other col than the ones filled with their values\n",
    "useful_functions.compare_2_df_excepted_col(['HT_points_ponderated_by_adversary_perf',\n",
    "                                            'AT_points_ponderated_by_adversary_perf',\n",
    "                                            'HT_avg_pm_points_ponderated_by_adversary_perf',  \n",
    "                                            'AT_avg_pm_points_ponderated_by_adversary_perf', 'HT_Diff_points_ponderated_by_adversary_perf', 'AT_Diff_points_ponderated_by_adversary_perf'], dataset_06, dataset_07)\n",
    "\n",
    "\n",
    "#We add the nb of goals scored and conceeded\n",
    "dataset_08 = make_new_features.scored_and_conceeded_goals(dico_col_rk.copy(), dataset_07.copy())\n",
    "#We test if the previous action has not modified other col than the ones filled with their values\n",
    "useful_functions.compare_2_df_excepted_col(['scored_goals_HT_PM',\n",
    "                                            'conceeded_goals_HT_PM',\n",
    "                                            'scored_goals_AT_PM',  \n",
    "                                            'conceeded_goals_AT_PM'], dataset_07, dataset_08)\n",
    "\n",
    "\n",
    "#We add the goal difference\n",
    "dataset_09 = make_new_features.goal_difference(dataset_08)\n",
    "#We test if the previous action has not modified other col than the ones filled with their values\n",
    "useful_functions.compare_2_df_excepted_col(['goal_diff_HT_PM',\n",
    "                                            'goal_diff_AT_PM',\n",
    "                                            'HT_avg_goal_diff_pm',  \n",
    "                                            'AT_avg_goal_diff_pm'], dataset_08, dataset_09)\n",
    "\n"
   ]
  }
 ],
 "metadata": {
  "kernelspec": {
   "display_name": "env-projet-mbappe",
   "language": "python",
   "name": "python3"
  },
  "language_info": {
   "codemirror_mode": {
    "name": "ipython",
    "version": 3
   },
   "file_extension": ".py",
   "mimetype": "text/x-python",
   "name": "python",
   "nbconvert_exporter": "python",
   "pygments_lexer": "ipython3",
   "version": "3.11.5"
  }
 },
 "nbformat": 4,
 "nbformat_minor": 2
}
